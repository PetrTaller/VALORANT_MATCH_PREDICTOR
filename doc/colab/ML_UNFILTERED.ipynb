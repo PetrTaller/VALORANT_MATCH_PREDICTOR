{
  "nbformat": 4,
  "nbformat_minor": 0,
  "metadata": {
    "colab": {
      "provenance": []
    },
    "kernelspec": {
      "name": "python3",
      "display_name": "Python 3"
    },
    "language_info": {
      "name": "python"
    }
  },
  "cells": [
    {
      "cell_type": "code",
      "source": [
        "import pandas as pd\n",
        "from sklearn.model_selection import train_test_split\n",
        "from sklearn.ensemble import RandomForestRegressor\n",
        "from sklearn.metrics import mean_absolute_error, mean_squared_error\n",
        "data = pd.read_csv(\"/content/sample_data/matches300.csv\", sep=',')\n",
        "input_features = ['team1', 'team2', 'score1', 'score2', 'map1','map2','map3','AVG_KD1','AVG_KD2','AVG_ACS1','AVG_ACS2','patch','league']\n",
        "target_feature = 'winner'\n",
        "X_train, X_test, Y_train, Y_test = train_test_split(data[input_features], data[target_feature], test_size=0.1)\n",
        "rf = RandomForestRegressor(n_estimators=50)\n",
        "rf.fit(X_train, Y_train)\n",
        "Y_pred = rf.predict(X_test)\n",
        "mae = mean_absolute_error(Y_test, Y_pred)\n",
        "mse = mean_squared_error(Y_test, Y_pred)\n",
        "\n",
        "#import pickle\n",
        "#filename = 'muj_model.dat'\n",
        "#pickle.dump(model,open(filename,\"wb\"))"
      ],
      "metadata": {
        "id": "liHzOgvWdnW2"
      },
      "execution_count": null,
      "outputs": []
    },
    {
      "cell_type": "code",
      "source": [
        "f'Mean Absolute Error: {mae}',f'Mean Squared Error: {mse}'"
      ],
      "metadata": {
        "colab": {
          "base_uri": "https://localhost:8080/"
        },
        "id": "4UU-wUqkdtMd",
        "outputId": "8e5becc3-9119-4603-c951-e59c851b749c"
      },
      "execution_count": null,
      "outputs": [
        {
          "output_type": "execute_result",
          "data": {
            "text/plain": [
              "('Mean Absolute Error: 0.02533333333333334',\n",
              " 'Mean Squared Error: 0.005586666666666667')"
            ]
          },
          "metadata": {},
          "execution_count": 25
        }
      ]
    },
    {
      "cell_type": "code",
      "source": [
        "import pandas as pd\n",
        "from sklearn.model_selection import train_test_split\n",
        "from sklearn.ensemble import RandomForestRegressor\n",
        "from sklearn.metrics import mean_absolute_error, mean_squared_error\n",
        "data = pd.read_csv(\"/content/sample_data/matches2300.csv\", sep=',')\n",
        "df = pd.DataFrame(data)\n",
        "df.fillna(0, inplace=True)\n",
        "input_features = ['team1', 'team2', 'map1','map2','map3','patch','league','score1','score2','winner']\n",
        "target_features = [ 'AVG_KD1','AVG_KD2','AVG_ACS1','AVG_ACS2']\n",
        "X_train, X_test, Y_train, Y_test = train_test_split(df[input_features], df[target_features], test_size=0.1)\n",
        "rf = RandomForestRegressor(n_estimators=20)\n",
        "rf.fit(X_train, Y_train)\n",
        "Y_pred = rf.predict(X_test)\n",
        "mae2 = mean_absolute_error(Y_test, Y_pred)\n",
        "mse2 = mean_squared_error(Y_test, Y_pred)"
      ],
      "metadata": {
        "id": "cKTrHAMjx8Oh"
      },
      "execution_count": null,
      "outputs": []
    },
    {
      "cell_type": "code",
      "source": [
        "f'Mean Absolute Error: {mae2}',f'Mean Squared Error: {mse2}'"
      ],
      "metadata": {
        "colab": {
          "base_uri": "https://localhost:8080/"
        },
        "id": "krRqxaeKERFm",
        "outputId": "a5c1ff98-abf3-4008-dbbb-7de15090a719"
      },
      "execution_count": null,
      "outputs": [
        {
          "output_type": "execute_result",
          "data": {
            "text/plain": [
              "('Mean Absolute Error: 5.795047500000003',\n",
              " 'Mean Squared Error: 108.38351589252036')"
            ]
          },
          "metadata": {},
          "execution_count": 82
        }
      ]
    },
    {
      "cell_type": "code",
      "source": [
        "import pandas as pd\n",
        "from sklearn.model_selection import train_test_split\n",
        "from sklearn.ensemble import RandomForestRegressor\n",
        "from sklearn.metrics import mean_absolute_error, mean_squared_error\n",
        "data = pd.read_csv(\"/content/sample_data/matches300.csv\", sep=',')\n",
        "input_features = ['team1', 'team2','map1','map2','map3','patch','league']\n",
        "target_feature = 'winner'\n",
        "X_train, X_test, Y_train, Y_test = train_test_split(data[input_features], data[target_feature], test_size=0.1)\n",
        "rf = RandomForestRegressor(n_estimators=20)\n",
        "rf.fit(X_train, Y_train)\n",
        "Y_pred = rf.predict(X_test)\n",
        "mae3 = mean_absolute_error(Y_test, Y_pred)\n",
        "mse3 = mean_squared_error(Y_test, Y_pred)"
      ],
      "metadata": {
        "id": "2YHvvxLnEvax"
      },
      "execution_count": null,
      "outputs": []
    },
    {
      "cell_type": "code",
      "source": [
        "f'Mean Absolute Error: {mae3}',f'Mean Squared Error: {mse3}'"
      ],
      "metadata": {
        "colab": {
          "base_uri": "https://localhost:8080/"
        },
        "id": "4JZ2kcWrExiF",
        "outputId": "1612bbf2-4aa8-4283-8db9-64a27c1fdf72"
      },
      "execution_count": null,
      "outputs": [
        {
          "output_type": "execute_result",
          "data": {
            "text/plain": [
              "('Mean Absolute Error: 0.41083333333333333',\n",
              " 'Mean Squared Error: 0.21152083333333332')"
            ]
          },
          "metadata": {},
          "execution_count": 29
        }
      ]
    },
    {
      "cell_type": "code",
      "source": [
        "import pandas as pd\n",
        "from sklearn.model_selection import train_test_split\n",
        "from sklearn.ensemble import RandomForestRegressor\n",
        "from sklearn.metrics import mean_absolute_error, mean_squared_error\n",
        "data = pd.read_csv(\"/content/sample_data/matches2300.csv\", sep=',')\n",
        "input_features = ['team1', 'team2','map1','map2','map3','patch','league']\n",
        "target_feature = 'winner'\n",
        "X_train, X_test, Y_train, Y_test = train_test_split(data[input_features], data[target_feature], test_size=0.2)\n",
        "rf = RandomForestRegressor(n_estimators=30)\n",
        "rf.fit(X_train, Y_train)\n",
        "Y_pred = rf.predict(X_test)\n",
        "mae4 = mean_absolute_error(Y_test, Y_pred)\n",
        "mse4 = mean_squared_error(Y_test, Y_pred)"
      ],
      "metadata": {
        "id": "Fr0b2QyZPQxo"
      },
      "execution_count": null,
      "outputs": []
    },
    {
      "cell_type": "code",
      "source": [
        "\n",
        "f'Mean Absolute Error: {mae4}',f'Mean Squared Error: {mse4}'"
      ],
      "metadata": {
        "id": "hug9z6YmPWOm",
        "outputId": "2e5c369c-3500-4e7b-9194-9eea6034f384",
        "colab": {
          "base_uri": "https://localhost:8080/"
        }
      },
      "execution_count": null,
      "outputs": [
        {
          "output_type": "execute_result",
          "data": {
            "text/plain": [
              "('Mean Absolute Error: 0.45464583333333336',\n",
              " 'Mean Squared Error: 0.24768412422839503')"
            ]
          },
          "metadata": {},
          "execution_count": 39
        }
      ]
    },
    {
      "cell_type": "code",
      "source": [
        "import pandas as pd\n",
        "from sklearn.model_selection import train_test_split\n",
        "from sklearn.ensemble import RandomForestRegressor\n",
        "from sklearn.metrics import mean_absolute_error, mean_squared_error\n",
        "from sklearn.linear_model import LinearRegression\n",
        "data = pd.read_csv(\"/content/sample_data/matches2300.csv\", sep=',')\n",
        "df = pd.DataFrame(data)\n",
        "df.fillna(0, inplace=True)\n",
        "input_features = ['team1', 'team2','map1','map2','map3','patch','league']\n",
        "target_feature = 'winner'\n",
        "X_train, X_test, Y_train, Y_test = train_test_split(df[input_features], df[target_feature], test_size=0.3)\n",
        "model = LinearRegression()\n",
        "model.fit(X_train, Y_train)\n",
        "Y_pred = model.predict(X_test)\n",
        "mae5 = mean_absolute_error(Y_test, Y_pred)\n",
        "mse5 = mean_squared_error(Y_test, Y_pred)"
      ],
      "metadata": {
        "id": "jQyk9jzh2hha"
      },
      "execution_count": null,
      "outputs": []
    },
    {
      "cell_type": "code",
      "source": [
        "f'Mean Absolute Error: {mae5}',f'Mean Squared Error: {mse5}'"
      ],
      "metadata": {
        "colab": {
          "base_uri": "https://localhost:8080/"
        },
        "id": "kRbRbjyT3p6O",
        "outputId": "cc97f8f1-2c80-41fc-b34b-a6c3f2a0332b"
      },
      "execution_count": null,
      "outputs": [
        {
          "output_type": "execute_result",
          "data": {
            "text/plain": [
              "('Mean Absolute Error: 0.4671055738056748',\n",
              " 'Mean Squared Error: 0.23301711648325016')"
            ]
          },
          "metadata": {},
          "execution_count": 59
        }
      ]
    },
    {
      "cell_type": "code",
      "source": [
        "import pandas as pd\n",
        "from sklearn.model_selection import train_test_split\n",
        "from sklearn.ensemble import RandomForestRegressor\n",
        "from sklearn.metrics import mean_absolute_error, mean_squared_error\n",
        "from sklearn.linear_model import LinearRegression\n",
        "data = pd.read_csv(\"/content/sample_data/matches2300.csv\", sep=',')\n",
        "df = pd.DataFrame(data)\n",
        "df.fillna(0, inplace=True)\n",
        "input_features = ['team1', 'team2','map1','map2','map3','patch','league']\n",
        "target_feature = 'winner'\n",
        "X_train, X_test, Y_train, Y_test = train_test_split(df[input_features], df[target_feature], test_size=0.2)\n",
        "model = LinearRegression()\n",
        "model.fit(X_train, Y_train)\n",
        "Y_pred = model.predict(X_test)\n",
        "mae5 = mean_absolute_error(Y_test, Y_pred)\n",
        "mse5 = mean_squared_error(Y_test, Y_pred)"
      ],
      "metadata": {
        "id": "VEqwcVCi3w7j"
      },
      "execution_count": null,
      "outputs": []
    },
    {
      "cell_type": "code",
      "source": [
        "import pandas as pd\n",
        "from sklearn.model_selection import train_test_split\n",
        "from sklearn.pipeline import Pipeline\n",
        "from sklearn.preprocessing import StandardScaler\n",
        "from sklearn.ensemble import RandomForestClassifier\n",
        "from sklearn.linear_model import LogisticRegression\n",
        "from sklearn.metrics import classification_report, accuracy_score\n",
        "\n",
        "# Load dataset\n",
        "df = pd.read_csv(\"/content/sample_data/matches300.csv\", sep=',')\n",
        "df.fillna(0, inplace=True)\n",
        "\n",
        "# Remove draws (winner = 0.5)\n",
        "df = df[df['winner'] != 0.5]\n",
        "\n",
        "# Compute average ACS and KD per team\n",
        "team1_stats = df[['team1', 'AVG_KD1', 'AVG_ACS1']].rename(columns={'team1': 'team', 'AVG_KD1': 'KD', 'AVG_ACS1': 'ACS'})\n",
        "team2_stats = df[['team2', 'AVG_KD2', 'AVG_ACS2']].rename(columns={'team2': 'team', 'AVG_KD2': 'KD', 'AVG_ACS2': 'ACS'})\n",
        "team_stats = pd.concat([team1_stats, team2_stats]).groupby('team').mean().reset_index()\n",
        "\n",
        "# Merge team statistics into original dataset\n",
        "df = df.merge(team_stats, left_on='team1', right_on='team', how='left').rename(columns={'KD': 'team1_KD', 'ACS': 'team1_ACS'}).drop(columns=['team'])\n",
        "df = df.merge(team_stats, left_on='team2', right_on='team', how='left').rename(columns={'KD': 'team2_KD', 'ACS': 'team2_ACS'}).drop(columns=['team'])\n",
        "\n",
        "# Define input (features) and output (target)\n",
        "vstupni_atributy = ['team1_KD', 'team2_KD', 'team1_ACS', 'team2_ACS', 'map1', 'map2', 'map3','patch','league']\n",
        "vystupni_atribut = 'winner'\n",
        "\n",
        "# Split data\n",
        "X_train, X_test, y_train, y_test = train_test_split(df[vstupni_atributy], df[vystupni_atribut], test_size=0.3, random_state=4)\n",
        "\n",
        "# Logistic Regression Model\n",
        "model_lr = Pipeline([\n",
        "    ('scale', StandardScaler()),  # Normalize numerical data\n",
        "    ('lr', LogisticRegression(max_iter=1000))\n",
        "])\n",
        "\n",
        "model_lr.fit(X_train, y_train)\n",
        "y_pred_lr = model_lr.predict(X_test)\n",
        "\n",
        "# Random Forest Model\n",
        "model_rf = Pipeline([\n",
        "    ('scale', StandardScaler()),\n",
        "    ('rf', RandomForestClassifier(n_estimators=50, random_state=5))\n",
        "])\n",
        "\n",
        "model_rf.fit(X_train, y_train)\n",
        "y_pred_rf = model_rf.predict(X_test)\n",
        "\n",
        "# Print results\n",
        "print(\"Logistic Regression:\")\n",
        "print(classification_report(y_test, y_pred_lr))\n",
        "print(f\"Accuracy: {accuracy_score(y_test, y_pred_lr):.4f}\")\n",
        "\n",
        "print(\"\\nRandom Forest Classifier:\")\n",
        "print(classification_report(y_test, y_pred_rf))\n",
        "print(f\"Accuracy: {accuracy_score(y_test, y_pred_rf):.4f}\")\n"
      ],
      "metadata": {
        "colab": {
          "base_uri": "https://localhost:8080/"
        },
        "id": "kMHsdJvD5TMA",
        "outputId": "ad4cf51c-8b56-4355-b99e-923791a96ef3"
      },
      "execution_count": 2,
      "outputs": [
        {
          "output_type": "stream",
          "name": "stdout",
          "text": [
            "Logistic Regression:\n",
            "              precision    recall  f1-score   support\n",
            "\n",
            "         0.0       0.74      0.62      0.68        37\n",
            "         1.0       0.75      0.84      0.80        51\n",
            "\n",
            "    accuracy                           0.75        88\n",
            "   macro avg       0.75      0.73      0.74        88\n",
            "weighted avg       0.75      0.75      0.75        88\n",
            "\n",
            "Accuracy: 0.7500\n",
            "\n",
            "Random Forest Classifier:\n",
            "              precision    recall  f1-score   support\n",
            "\n",
            "         0.0       0.79      0.70      0.74        37\n",
            "         1.0       0.80      0.86      0.83        51\n",
            "\n",
            "    accuracy                           0.80        88\n",
            "   macro avg       0.79      0.78      0.79        88\n",
            "weighted avg       0.79      0.80      0.79        88\n",
            "\n",
            "Accuracy: 0.7955\n"
          ]
        }
      ]
    },
    {
      "cell_type": "code",
      "source": [
        "import pandas as pd\n",
        "\n",
        "# Load dataset\n",
        "df = pd.read_csv(\"/content/sample_data/matches300.csv\", sep=',')\n",
        "df.fillna(0, inplace=True)  # Replace NaN with 0\n",
        "df = df[df['winner'] != 0.5]\n",
        "\n",
        "# Calculate team stats using past matches\n",
        "team1_stats = df[['team1', 'AVG_KD1', 'AVG_ACS1']].rename(columns={'team1': 'team', 'AVG_KD1': 'KD', 'AVG_ACS1': 'ACS'})\n",
        "team2_stats = df[['team2', 'AVG_KD2', 'AVG_ACS2']].rename(columns={'team2': 'team', 'AVG_KD2': 'KD', 'AVG_ACS2': 'ACS'})\n",
        "\n",
        "# Combine both team1 and team2 stats into a single dataset\n",
        "team_stats = pd.concat([team1_stats, team2_stats])\n",
        "\n",
        "# Group by team ID and calculate mean KD & ACS\n",
        "team_stats = team_stats.groupby('team').mean().reset_index()\n",
        "\n",
        "print(team_stats.head())  # Check calculated AVG_KD and AVG_ACS per team"
      ],
      "metadata": {
        "colab": {
          "base_uri": "https://localhost:8080/"
        },
        "id": "Wrtbclto-BRQ",
        "outputId": "e500d9ce-65e6-41e3-91de-6bf062eb3c89"
      },
      "execution_count": 3,
      "outputs": [
        {
          "output_type": "stream",
          "name": "stdout",
          "text": [
            "   team        KD         ACS\n",
            "0     1  1.112000  214.900000\n",
            "1     2  0.979000  198.500000\n",
            "2     3  0.944857  192.942857\n",
            "3     4  1.166500  216.000000\n",
            "4     5  0.983000  201.800000\n"
          ]
        }
      ]
    },
    {
      "cell_type": "code",
      "source": [
        "# Merge team statistics into the dataset for team1\n",
        "df = df.merge(team_stats, left_on='team1', right_on='team', how='left').rename(columns={'KD': 'team1_KD', 'ACS': 'team1_ACS'}).drop(columns=['team'])\n",
        "\n",
        "# Merge team statistics into the dataset for team2\n",
        "df = df.merge(team_stats, left_on='team2', right_on='team', how='left').rename(columns={'KD': 'team2_KD', 'ACS': 'team2_ACS'}).drop(columns=['team'])\n",
        "\n",
        "print(df[['team1', 'team1_KD', 'team1_ACS', 'team2', 'team2_KD', 'team2_ACS']].head())  # Verify stats"
      ],
      "metadata": {
        "colab": {
          "base_uri": "https://localhost:8080/"
        },
        "id": "zZ0U5lI5_VlI",
        "outputId": "aaee918a-c4fa-4cf4-dd25-4997ab76c63b"
      },
      "execution_count": 4,
      "outputs": [
        {
          "output_type": "stream",
          "name": "stdout",
          "text": [
            "   team1  team1_KD   team1_ACS  team2  team2_KD   team2_ACS\n",
            "0      1  1.112000  214.900000      2  0.979000  198.500000\n",
            "1      3  0.944857  192.942857      4  1.166500  216.000000\n",
            "2      7  0.979333  205.533333      8  1.024667  198.266667\n",
            "3      9  1.221333  224.133333     10  1.157333  217.266667\n",
            "4     11  0.981600  201.640000     12  0.929333  198.000000\n"
          ]
        }
      ]
    },
    {
      "cell_type": "code",
      "source": [
        "from sklearn.model_selection import train_test_split\n",
        "from sklearn.pipeline import Pipeline\n",
        "from sklearn.ensemble import RandomForestClassifier\n",
        "from sklearn.preprocessing import StandardScaler\n",
        "from sklearn.metrics import classification_report, accuracy_score\n",
        "\n",
        "# Define input and output attributes\n",
        "features = ['team1_KD', 'team2_KD', 'team1_ACS', 'team2_ACS', 'map1', 'map2', 'map3','patch','league']\n",
        "target = 'winner'\n",
        "\n",
        "# Split data\n",
        "X_train, X_test, y_train, y_test = train_test_split(df[features], df[target], test_size=0.3, random_state=4)\n",
        "\n",
        "# Define model pipeline\n",
        "model_rf = Pipeline([\n",
        "    ('scaler', StandardScaler()),  # Normalize features\n",
        "    ('rf', RandomForestClassifier(n_estimators=100, random_state=5))\n",
        "])\n",
        "\n",
        "# Train the model\n",
        "model_rf.fit(X_train, y_train)\n",
        "\n",
        "# Predictions\n",
        "y_pred_rf = model_rf.predict(X_test)\n",
        "\n",
        "# Print results\n",
        "print(\"Random Forest Classifier:\")\n",
        "print(classification_report(y_test, y_pred_rf))\n",
        "print(f\"Accuracy: {accuracy_score(y_test, y_pred_rf):.4f}\")"
      ],
      "metadata": {
        "colab": {
          "base_uri": "https://localhost:8080/"
        },
        "id": "utrVpPqP_i33",
        "outputId": "bc8ac159-5c85-4a7c-8975-ee8c11b0c629"
      },
      "execution_count": 5,
      "outputs": [
        {
          "output_type": "stream",
          "name": "stdout",
          "text": [
            "Random Forest Classifier:\n",
            "              precision    recall  f1-score   support\n",
            "\n",
            "         0.0       0.77      0.65      0.71        37\n",
            "         1.0       0.77      0.86      0.81        51\n",
            "\n",
            "    accuracy                           0.77        88\n",
            "   macro avg       0.77      0.76      0.76        88\n",
            "weighted avg       0.77      0.77      0.77        88\n",
            "\n",
            "Accuracy: 0.7727\n"
          ]
        }
      ]
    },
    {
      "cell_type": "code",
      "source": [
        "import joblib\n",
        "\n",
        "# Save trained model\n",
        "joblib.dump(model_rf, \"random_forest_model.pkl\")\n",
        "joblib.dump(model_lr, \"logistic_regression_model.pkl\")\n",
        "joblib.dump(model_xgb, \"xgboost_model.ubj\")\n",
        "# Load trained model\n",
        "model_nig = joblib.load(\"xgboost_model.ubj\")\n",
        "\n",
        "def predict_winner(team1, team2, map1, map2, map3, patch, league,model):\n",
        "    # Retrieve team stats from past matches\n",
        "    team1_data = team_stats[team_stats['team'] == team1]\n",
        "    team2_data = team_stats[team_stats['team'] == team2]\n",
        "\n",
        "    if team1_data.empty or team2_data.empty:\n",
        "        return \"Error: One or both teams have no historical data.\"\n",
        "\n",
        "    team1_KD, team1_ACS = team1_data[['KD', 'ACS']].values[0]\n",
        "    team2_KD, team2_ACS = team2_data[['KD', 'ACS']].values[0]\n",
        "\n",
        "    # Create input DataFrame\n",
        "    input_data = pd.DataFrame([[team1_KD, team2_KD, team1_ACS, team2_ACS, map1, map2, map3, patch, league]],\n",
        "                              columns=['team1_KD', 'team2_KD', 'team1_ACS', 'team2_ACS', 'map1', 'map2', 'map3', 'patch', 'league'])\n",
        "\n",
        "    # Predict winner\n",
        "    winner = model.predict(input_data)[0]\n",
        "\n",
        "    return f\"Predicted Winner: {'Team 1' if winner == 1 else 'Team 2'}\"\n",
        "\n",
        "# Example Usage\n",
        "print(predict_winner(2, 1, 1, 2, 3, 10.05 ,3,model_nig))  # Replace with actual values"
      ],
      "metadata": {
        "colab": {
          "base_uri": "https://localhost:8080/"
        },
        "id": "QodTrwlXBGOx",
        "outputId": "0b04c461-4561-40e8-bd65-da3168616001"
      },
      "execution_count": 15,
      "outputs": [
        {
          "output_type": "stream",
          "name": "stdout",
          "text": [
            "Predicted Winner: Team 1\n"
          ]
        }
      ]
    },
    {
      "cell_type": "code",
      "source": [],
      "metadata": {
        "colab": {
          "base_uri": "https://localhost:8080/",
          "height": 157
        },
        "collapsed": true,
        "id": "xnUvNnwkpLAX",
        "outputId": "8bde89de-58fe-4150-82de-060e0733c59d"
      },
      "execution_count": null,
      "outputs": [
        {
          "output_type": "execute_result",
          "data": {
            "text/plain": [
              "Pipeline(steps=[('scaler', StandardScaler()),\n",
              "                ('rf', RandomForestClassifier(random_state=5))])"
            ],
            "text/html": [
              "<style>#sk-container-id-4 {\n",
              "  /* Definition of color scheme common for light and dark mode */\n",
              "  --sklearn-color-text: #000;\n",
              "  --sklearn-color-text-muted: #666;\n",
              "  --sklearn-color-line: gray;\n",
              "  /* Definition of color scheme for unfitted estimators */\n",
              "  --sklearn-color-unfitted-level-0: #fff5e6;\n",
              "  --sklearn-color-unfitted-level-1: #f6e4d2;\n",
              "  --sklearn-color-unfitted-level-2: #ffe0b3;\n",
              "  --sklearn-color-unfitted-level-3: chocolate;\n",
              "  /* Definition of color scheme for fitted estimators */\n",
              "  --sklearn-color-fitted-level-0: #f0f8ff;\n",
              "  --sklearn-color-fitted-level-1: #d4ebff;\n",
              "  --sklearn-color-fitted-level-2: #b3dbfd;\n",
              "  --sklearn-color-fitted-level-3: cornflowerblue;\n",
              "\n",
              "  /* Specific color for light theme */\n",
              "  --sklearn-color-text-on-default-background: var(--sg-text-color, var(--theme-code-foreground, var(--jp-content-font-color1, black)));\n",
              "  --sklearn-color-background: var(--sg-background-color, var(--theme-background, var(--jp-layout-color0, white)));\n",
              "  --sklearn-color-border-box: var(--sg-text-color, var(--theme-code-foreground, var(--jp-content-font-color1, black)));\n",
              "  --sklearn-color-icon: #696969;\n",
              "\n",
              "  @media (prefers-color-scheme: dark) {\n",
              "    /* Redefinition of color scheme for dark theme */\n",
              "    --sklearn-color-text-on-default-background: var(--sg-text-color, var(--theme-code-foreground, var(--jp-content-font-color1, white)));\n",
              "    --sklearn-color-background: var(--sg-background-color, var(--theme-background, var(--jp-layout-color0, #111)));\n",
              "    --sklearn-color-border-box: var(--sg-text-color, var(--theme-code-foreground, var(--jp-content-font-color1, white)));\n",
              "    --sklearn-color-icon: #878787;\n",
              "  }\n",
              "}\n",
              "\n",
              "#sk-container-id-4 {\n",
              "  color: var(--sklearn-color-text);\n",
              "}\n",
              "\n",
              "#sk-container-id-4 pre {\n",
              "  padding: 0;\n",
              "}\n",
              "\n",
              "#sk-container-id-4 input.sk-hidden--visually {\n",
              "  border: 0;\n",
              "  clip: rect(1px 1px 1px 1px);\n",
              "  clip: rect(1px, 1px, 1px, 1px);\n",
              "  height: 1px;\n",
              "  margin: -1px;\n",
              "  overflow: hidden;\n",
              "  padding: 0;\n",
              "  position: absolute;\n",
              "  width: 1px;\n",
              "}\n",
              "\n",
              "#sk-container-id-4 div.sk-dashed-wrapped {\n",
              "  border: 1px dashed var(--sklearn-color-line);\n",
              "  margin: 0 0.4em 0.5em 0.4em;\n",
              "  box-sizing: border-box;\n",
              "  padding-bottom: 0.4em;\n",
              "  background-color: var(--sklearn-color-background);\n",
              "}\n",
              "\n",
              "#sk-container-id-4 div.sk-container {\n",
              "  /* jupyter's `normalize.less` sets `[hidden] { display: none; }`\n",
              "     but bootstrap.min.css set `[hidden] { display: none !important; }`\n",
              "     so we also need the `!important` here to be able to override the\n",
              "     default hidden behavior on the sphinx rendered scikit-learn.org.\n",
              "     See: https://github.com/scikit-learn/scikit-learn/issues/21755 */\n",
              "  display: inline-block !important;\n",
              "  position: relative;\n",
              "}\n",
              "\n",
              "#sk-container-id-4 div.sk-text-repr-fallback {\n",
              "  display: none;\n",
              "}\n",
              "\n",
              "div.sk-parallel-item,\n",
              "div.sk-serial,\n",
              "div.sk-item {\n",
              "  /* draw centered vertical line to link estimators */\n",
              "  background-image: linear-gradient(var(--sklearn-color-text-on-default-background), var(--sklearn-color-text-on-default-background));\n",
              "  background-size: 2px 100%;\n",
              "  background-repeat: no-repeat;\n",
              "  background-position: center center;\n",
              "}\n",
              "\n",
              "/* Parallel-specific style estimator block */\n",
              "\n",
              "#sk-container-id-4 div.sk-parallel-item::after {\n",
              "  content: \"\";\n",
              "  width: 100%;\n",
              "  border-bottom: 2px solid var(--sklearn-color-text-on-default-background);\n",
              "  flex-grow: 1;\n",
              "}\n",
              "\n",
              "#sk-container-id-4 div.sk-parallel {\n",
              "  display: flex;\n",
              "  align-items: stretch;\n",
              "  justify-content: center;\n",
              "  background-color: var(--sklearn-color-background);\n",
              "  position: relative;\n",
              "}\n",
              "\n",
              "#sk-container-id-4 div.sk-parallel-item {\n",
              "  display: flex;\n",
              "  flex-direction: column;\n",
              "}\n",
              "\n",
              "#sk-container-id-4 div.sk-parallel-item:first-child::after {\n",
              "  align-self: flex-end;\n",
              "  width: 50%;\n",
              "}\n",
              "\n",
              "#sk-container-id-4 div.sk-parallel-item:last-child::after {\n",
              "  align-self: flex-start;\n",
              "  width: 50%;\n",
              "}\n",
              "\n",
              "#sk-container-id-4 div.sk-parallel-item:only-child::after {\n",
              "  width: 0;\n",
              "}\n",
              "\n",
              "/* Serial-specific style estimator block */\n",
              "\n",
              "#sk-container-id-4 div.sk-serial {\n",
              "  display: flex;\n",
              "  flex-direction: column;\n",
              "  align-items: center;\n",
              "  background-color: var(--sklearn-color-background);\n",
              "  padding-right: 1em;\n",
              "  padding-left: 1em;\n",
              "}\n",
              "\n",
              "\n",
              "/* Toggleable style: style used for estimator/Pipeline/ColumnTransformer box that is\n",
              "clickable and can be expanded/collapsed.\n",
              "- Pipeline and ColumnTransformer use this feature and define the default style\n",
              "- Estimators will overwrite some part of the style using the `sk-estimator` class\n",
              "*/\n",
              "\n",
              "/* Pipeline and ColumnTransformer style (default) */\n",
              "\n",
              "#sk-container-id-4 div.sk-toggleable {\n",
              "  /* Default theme specific background. It is overwritten whether we have a\n",
              "  specific estimator or a Pipeline/ColumnTransformer */\n",
              "  background-color: var(--sklearn-color-background);\n",
              "}\n",
              "\n",
              "/* Toggleable label */\n",
              "#sk-container-id-4 label.sk-toggleable__label {\n",
              "  cursor: pointer;\n",
              "  display: flex;\n",
              "  width: 100%;\n",
              "  margin-bottom: 0;\n",
              "  padding: 0.5em;\n",
              "  box-sizing: border-box;\n",
              "  text-align: center;\n",
              "  align-items: start;\n",
              "  justify-content: space-between;\n",
              "  gap: 0.5em;\n",
              "}\n",
              "\n",
              "#sk-container-id-4 label.sk-toggleable__label .caption {\n",
              "  font-size: 0.6rem;\n",
              "  font-weight: lighter;\n",
              "  color: var(--sklearn-color-text-muted);\n",
              "}\n",
              "\n",
              "#sk-container-id-4 label.sk-toggleable__label-arrow:before {\n",
              "  /* Arrow on the left of the label */\n",
              "  content: \"▸\";\n",
              "  float: left;\n",
              "  margin-right: 0.25em;\n",
              "  color: var(--sklearn-color-icon);\n",
              "}\n",
              "\n",
              "#sk-container-id-4 label.sk-toggleable__label-arrow:hover:before {\n",
              "  color: var(--sklearn-color-text);\n",
              "}\n",
              "\n",
              "/* Toggleable content - dropdown */\n",
              "\n",
              "#sk-container-id-4 div.sk-toggleable__content {\n",
              "  max-height: 0;\n",
              "  max-width: 0;\n",
              "  overflow: hidden;\n",
              "  text-align: left;\n",
              "  /* unfitted */\n",
              "  background-color: var(--sklearn-color-unfitted-level-0);\n",
              "}\n",
              "\n",
              "#sk-container-id-4 div.sk-toggleable__content.fitted {\n",
              "  /* fitted */\n",
              "  background-color: var(--sklearn-color-fitted-level-0);\n",
              "}\n",
              "\n",
              "#sk-container-id-4 div.sk-toggleable__content pre {\n",
              "  margin: 0.2em;\n",
              "  border-radius: 0.25em;\n",
              "  color: var(--sklearn-color-text);\n",
              "  /* unfitted */\n",
              "  background-color: var(--sklearn-color-unfitted-level-0);\n",
              "}\n",
              "\n",
              "#sk-container-id-4 div.sk-toggleable__content.fitted pre {\n",
              "  /* unfitted */\n",
              "  background-color: var(--sklearn-color-fitted-level-0);\n",
              "}\n",
              "\n",
              "#sk-container-id-4 input.sk-toggleable__control:checked~div.sk-toggleable__content {\n",
              "  /* Expand drop-down */\n",
              "  max-height: 200px;\n",
              "  max-width: 100%;\n",
              "  overflow: auto;\n",
              "}\n",
              "\n",
              "#sk-container-id-4 input.sk-toggleable__control:checked~label.sk-toggleable__label-arrow:before {\n",
              "  content: \"▾\";\n",
              "}\n",
              "\n",
              "/* Pipeline/ColumnTransformer-specific style */\n",
              "\n",
              "#sk-container-id-4 div.sk-label input.sk-toggleable__control:checked~label.sk-toggleable__label {\n",
              "  color: var(--sklearn-color-text);\n",
              "  background-color: var(--sklearn-color-unfitted-level-2);\n",
              "}\n",
              "\n",
              "#sk-container-id-4 div.sk-label.fitted input.sk-toggleable__control:checked~label.sk-toggleable__label {\n",
              "  background-color: var(--sklearn-color-fitted-level-2);\n",
              "}\n",
              "\n",
              "/* Estimator-specific style */\n",
              "\n",
              "/* Colorize estimator box */\n",
              "#sk-container-id-4 div.sk-estimator input.sk-toggleable__control:checked~label.sk-toggleable__label {\n",
              "  /* unfitted */\n",
              "  background-color: var(--sklearn-color-unfitted-level-2);\n",
              "}\n",
              "\n",
              "#sk-container-id-4 div.sk-estimator.fitted input.sk-toggleable__control:checked~label.sk-toggleable__label {\n",
              "  /* fitted */\n",
              "  background-color: var(--sklearn-color-fitted-level-2);\n",
              "}\n",
              "\n",
              "#sk-container-id-4 div.sk-label label.sk-toggleable__label,\n",
              "#sk-container-id-4 div.sk-label label {\n",
              "  /* The background is the default theme color */\n",
              "  color: var(--sklearn-color-text-on-default-background);\n",
              "}\n",
              "\n",
              "/* On hover, darken the color of the background */\n",
              "#sk-container-id-4 div.sk-label:hover label.sk-toggleable__label {\n",
              "  color: var(--sklearn-color-text);\n",
              "  background-color: var(--sklearn-color-unfitted-level-2);\n",
              "}\n",
              "\n",
              "/* Label box, darken color on hover, fitted */\n",
              "#sk-container-id-4 div.sk-label.fitted:hover label.sk-toggleable__label.fitted {\n",
              "  color: var(--sklearn-color-text);\n",
              "  background-color: var(--sklearn-color-fitted-level-2);\n",
              "}\n",
              "\n",
              "/* Estimator label */\n",
              "\n",
              "#sk-container-id-4 div.sk-label label {\n",
              "  font-family: monospace;\n",
              "  font-weight: bold;\n",
              "  display: inline-block;\n",
              "  line-height: 1.2em;\n",
              "}\n",
              "\n",
              "#sk-container-id-4 div.sk-label-container {\n",
              "  text-align: center;\n",
              "}\n",
              "\n",
              "/* Estimator-specific */\n",
              "#sk-container-id-4 div.sk-estimator {\n",
              "  font-family: monospace;\n",
              "  border: 1px dotted var(--sklearn-color-border-box);\n",
              "  border-radius: 0.25em;\n",
              "  box-sizing: border-box;\n",
              "  margin-bottom: 0.5em;\n",
              "  /* unfitted */\n",
              "  background-color: var(--sklearn-color-unfitted-level-0);\n",
              "}\n",
              "\n",
              "#sk-container-id-4 div.sk-estimator.fitted {\n",
              "  /* fitted */\n",
              "  background-color: var(--sklearn-color-fitted-level-0);\n",
              "}\n",
              "\n",
              "/* on hover */\n",
              "#sk-container-id-4 div.sk-estimator:hover {\n",
              "  /* unfitted */\n",
              "  background-color: var(--sklearn-color-unfitted-level-2);\n",
              "}\n",
              "\n",
              "#sk-container-id-4 div.sk-estimator.fitted:hover {\n",
              "  /* fitted */\n",
              "  background-color: var(--sklearn-color-fitted-level-2);\n",
              "}\n",
              "\n",
              "/* Specification for estimator info (e.g. \"i\" and \"?\") */\n",
              "\n",
              "/* Common style for \"i\" and \"?\" */\n",
              "\n",
              ".sk-estimator-doc-link,\n",
              "a:link.sk-estimator-doc-link,\n",
              "a:visited.sk-estimator-doc-link {\n",
              "  float: right;\n",
              "  font-size: smaller;\n",
              "  line-height: 1em;\n",
              "  font-family: monospace;\n",
              "  background-color: var(--sklearn-color-background);\n",
              "  border-radius: 1em;\n",
              "  height: 1em;\n",
              "  width: 1em;\n",
              "  text-decoration: none !important;\n",
              "  margin-left: 0.5em;\n",
              "  text-align: center;\n",
              "  /* unfitted */\n",
              "  border: var(--sklearn-color-unfitted-level-1) 1pt solid;\n",
              "  color: var(--sklearn-color-unfitted-level-1);\n",
              "}\n",
              "\n",
              ".sk-estimator-doc-link.fitted,\n",
              "a:link.sk-estimator-doc-link.fitted,\n",
              "a:visited.sk-estimator-doc-link.fitted {\n",
              "  /* fitted */\n",
              "  border: var(--sklearn-color-fitted-level-1) 1pt solid;\n",
              "  color: var(--sklearn-color-fitted-level-1);\n",
              "}\n",
              "\n",
              "/* On hover */\n",
              "div.sk-estimator:hover .sk-estimator-doc-link:hover,\n",
              ".sk-estimator-doc-link:hover,\n",
              "div.sk-label-container:hover .sk-estimator-doc-link:hover,\n",
              ".sk-estimator-doc-link:hover {\n",
              "  /* unfitted */\n",
              "  background-color: var(--sklearn-color-unfitted-level-3);\n",
              "  color: var(--sklearn-color-background);\n",
              "  text-decoration: none;\n",
              "}\n",
              "\n",
              "div.sk-estimator.fitted:hover .sk-estimator-doc-link.fitted:hover,\n",
              ".sk-estimator-doc-link.fitted:hover,\n",
              "div.sk-label-container:hover .sk-estimator-doc-link.fitted:hover,\n",
              ".sk-estimator-doc-link.fitted:hover {\n",
              "  /* fitted */\n",
              "  background-color: var(--sklearn-color-fitted-level-3);\n",
              "  color: var(--sklearn-color-background);\n",
              "  text-decoration: none;\n",
              "}\n",
              "\n",
              "/* Span, style for the box shown on hovering the info icon */\n",
              ".sk-estimator-doc-link span {\n",
              "  display: none;\n",
              "  z-index: 9999;\n",
              "  position: relative;\n",
              "  font-weight: normal;\n",
              "  right: .2ex;\n",
              "  padding: .5ex;\n",
              "  margin: .5ex;\n",
              "  width: min-content;\n",
              "  min-width: 20ex;\n",
              "  max-width: 50ex;\n",
              "  color: var(--sklearn-color-text);\n",
              "  box-shadow: 2pt 2pt 4pt #999;\n",
              "  /* unfitted */\n",
              "  background: var(--sklearn-color-unfitted-level-0);\n",
              "  border: .5pt solid var(--sklearn-color-unfitted-level-3);\n",
              "}\n",
              "\n",
              ".sk-estimator-doc-link.fitted span {\n",
              "  /* fitted */\n",
              "  background: var(--sklearn-color-fitted-level-0);\n",
              "  border: var(--sklearn-color-fitted-level-3);\n",
              "}\n",
              "\n",
              ".sk-estimator-doc-link:hover span {\n",
              "  display: block;\n",
              "}\n",
              "\n",
              "/* \"?\"-specific style due to the `<a>` HTML tag */\n",
              "\n",
              "#sk-container-id-4 a.estimator_doc_link {\n",
              "  float: right;\n",
              "  font-size: 1rem;\n",
              "  line-height: 1em;\n",
              "  font-family: monospace;\n",
              "  background-color: var(--sklearn-color-background);\n",
              "  border-radius: 1rem;\n",
              "  height: 1rem;\n",
              "  width: 1rem;\n",
              "  text-decoration: none;\n",
              "  /* unfitted */\n",
              "  color: var(--sklearn-color-unfitted-level-1);\n",
              "  border: var(--sklearn-color-unfitted-level-1) 1pt solid;\n",
              "}\n",
              "\n",
              "#sk-container-id-4 a.estimator_doc_link.fitted {\n",
              "  /* fitted */\n",
              "  border: var(--sklearn-color-fitted-level-1) 1pt solid;\n",
              "  color: var(--sklearn-color-fitted-level-1);\n",
              "}\n",
              "\n",
              "/* On hover */\n",
              "#sk-container-id-4 a.estimator_doc_link:hover {\n",
              "  /* unfitted */\n",
              "  background-color: var(--sklearn-color-unfitted-level-3);\n",
              "  color: var(--sklearn-color-background);\n",
              "  text-decoration: none;\n",
              "}\n",
              "\n",
              "#sk-container-id-4 a.estimator_doc_link.fitted:hover {\n",
              "  /* fitted */\n",
              "  background-color: var(--sklearn-color-fitted-level-3);\n",
              "}\n",
              "</style><div id=\"sk-container-id-4\" class=\"sk-top-container\"><div class=\"sk-text-repr-fallback\"><pre>Pipeline(steps=[(&#x27;scaler&#x27;, StandardScaler()),\n",
              "                (&#x27;rf&#x27;, RandomForestClassifier(random_state=5))])</pre><b>In a Jupyter environment, please rerun this cell to show the HTML representation or trust the notebook. <br />On GitHub, the HTML representation is unable to render, please try loading this page with nbviewer.org.</b></div><div class=\"sk-container\" hidden><div class=\"sk-item sk-dashed-wrapped\"><div class=\"sk-label-container\"><div class=\"sk-label fitted sk-toggleable\"><input class=\"sk-toggleable__control sk-hidden--visually\" id=\"sk-estimator-id-10\" type=\"checkbox\" ><label for=\"sk-estimator-id-10\" class=\"sk-toggleable__label fitted sk-toggleable__label-arrow\"><div><div>Pipeline</div></div><div><a class=\"sk-estimator-doc-link fitted\" rel=\"noreferrer\" target=\"_blank\" href=\"https://scikit-learn.org/1.6/modules/generated/sklearn.pipeline.Pipeline.html\">?<span>Documentation for Pipeline</span></a><span class=\"sk-estimator-doc-link fitted\">i<span>Fitted</span></span></div></label><div class=\"sk-toggleable__content fitted\"><pre>Pipeline(steps=[(&#x27;scaler&#x27;, StandardScaler()),\n",
              "                (&#x27;rf&#x27;, RandomForestClassifier(random_state=5))])</pre></div> </div></div><div class=\"sk-serial\"><div class=\"sk-item\"><div class=\"sk-estimator fitted sk-toggleable\"><input class=\"sk-toggleable__control sk-hidden--visually\" id=\"sk-estimator-id-11\" type=\"checkbox\" ><label for=\"sk-estimator-id-11\" class=\"sk-toggleable__label fitted sk-toggleable__label-arrow\"><div><div>StandardScaler</div></div><div><a class=\"sk-estimator-doc-link fitted\" rel=\"noreferrer\" target=\"_blank\" href=\"https://scikit-learn.org/1.6/modules/generated/sklearn.preprocessing.StandardScaler.html\">?<span>Documentation for StandardScaler</span></a></div></label><div class=\"sk-toggleable__content fitted\"><pre>StandardScaler()</pre></div> </div></div><div class=\"sk-item\"><div class=\"sk-estimator fitted sk-toggleable\"><input class=\"sk-toggleable__control sk-hidden--visually\" id=\"sk-estimator-id-12\" type=\"checkbox\" ><label for=\"sk-estimator-id-12\" class=\"sk-toggleable__label fitted sk-toggleable__label-arrow\"><div><div>RandomForestClassifier</div></div><div><a class=\"sk-estimator-doc-link fitted\" rel=\"noreferrer\" target=\"_blank\" href=\"https://scikit-learn.org/1.6/modules/generated/sklearn.ensemble.RandomForestClassifier.html\">?<span>Documentation for RandomForestClassifier</span></a></div></label><div class=\"sk-toggleable__content fitted\"><pre>RandomForestClassifier(random_state=5)</pre></div> </div></div></div></div></div></div>"
            ]
          },
          "metadata": {},
          "execution_count": 37
        }
      ]
    },
    {
      "cell_type": "code",
      "source": [
        "import numpy as np\n",
        "import pandas as pd\n",
        "import tensorflow as tf\n",
        "from tensorflow import keras\n",
        "from tensorflow.keras.models import Sequential\n",
        "from tensorflow.keras.layers import Dense, Dropout\n",
        "from sklearn.model_selection import train_test_split\n",
        "from sklearn.preprocessing import StandardScaler\n",
        "\n",
        "# Load dataset\n",
        "df = pd.read_csv(\"/content/sample_data/matches10353.csv\", sep=',')\n",
        "df.fillna(0, inplace=True)  # Fill NaN values\n",
        "df = df[df['winner'] != 0.5]  # Remove matches with a draw (0.5)\n",
        "\n",
        "# Compute past average KD and ACS per team\n",
        "team1_stats = df[['team1', 'AVG_KD1', 'AVG_ACS1']].rename(columns={'team1': 'team', 'AVG_KD1': 'KD', 'AVG_ACS1': 'ACS'})\n",
        "team2_stats = df[['team2', 'AVG_KD2', 'AVG_ACS2']].rename(columns={'team2': 'team', 'AVG_KD2': 'KD', 'AVG_ACS2': 'ACS'})\n",
        "team_stats = pd.concat([team1_stats, team2_stats]).groupby('team').mean().reset_index()\n",
        "\n",
        "# Merge team stats into dataset\n",
        "df = df.merge(team_stats, left_on='team1', right_on='team', how='left').rename(columns={'KD': 'team1_KD', 'ACS': 'team1_ACS'}).drop(columns=['team'])\n",
        "df = df.merge(team_stats, left_on='team2', right_on='team', how='left').rename(columns={'KD': 'team2_KD', 'ACS': 'team2_ACS'}).drop(columns=['team'])\n",
        "\n",
        "# Features (input variables)\n",
        "features = ['team1_KD', 'team2_KD', 'team1_ACS', 'team2_ACS', 'map1', 'map2', 'map3','patch','league']\n",
        "target = 'winner'\n",
        "\n",
        "# Split data into train and test sets\n",
        "X_train, X_test, y_train, y_test = train_test_split(df[features], df[target], test_size=0.3, random_state=4)\n",
        "\n",
        "# Normalize data (scale inputs)\n",
        "scaler = StandardScaler()\n",
        "X_train = scaler.fit_transform(X_train)\n",
        "X_test = scaler.transform(X_test)\n",
        "\n",
        "# Define the model\n",
        "model = Sequential([\n",
        "    Dense(32, activation='relu', input_shape=(len(features),)),  # Input layer\n",
        "    Dropout(0.2),  # Prevent overfitting\n",
        "    Dense(16, activation='relu'),  # Hidden layer\n",
        "    Dense(1, activation='sigmoid')  # Output layer (sigmoid for classification)\n",
        "])\n",
        "\n",
        "# Compile the model\n",
        "model.compile(optimizer='adam', loss='binary_crossentropy', metrics=['accuracy'])\n",
        "\n",
        "# Train the model\n",
        "history = model.fit(X_train, y_train, epochs=50, batch_size=16, validation_data=(X_test, y_test))\n",
        "\n",
        "# Evaluate model performance\n",
        "loss, accuracy = model.evaluate(X_test, y_test)\n",
        "print(f\"Test Accuracy: {accuracy:.4f}\")\n",
        "\n",
        "# Function to predict match winner\n",
        "def predict_winner(team1, team2, map1, map2, map3,patch,league):\n",
        "    # Fetch team statistics\n",
        "    team1_data = team_stats[team_stats['team'] == team1]\n",
        "    team2_data = team_stats[team_stats['team'] == team2]\n",
        "\n",
        "    if team1_data.empty or team2_data.empty:\n",
        "        return \"Error: One or both teams have no historical data.\"\n",
        "\n",
        "    team1_KD, team1_ACS = team1_data[['KD', 'ACS']].values[0]\n",
        "    team2_KD, team2_ACS = team2_data[['KD', 'ACS']].values[0]\n",
        "\n",
        "    # Prepare input data\n",
        "    input_data = np.array([[team1_KD, team2_KD, team1_ACS, team2_ACS, map1, map2, map3,patch,league]])\n",
        "    input_data = scaler.transform(input_data)  # Normalize input\n",
        "\n",
        "    # Predict winner\n",
        "    prob = model.predict(input_data)[0][0]\n",
        "    winner = \"Team 1\" if prob > 0.5 else \"Team 2\"\n",
        "\n",
        "    return f\"Predicted Winner: {winner} (Confidence: {prob:.2f})\"\n",
        "\n",
        "# Example Usage\n",
        "print(predict_winner(205, 137, 1, 2, 3,10.03,3))  # Replace with actual team IDs and map details\n"
      ],
      "metadata": {
        "colab": {
          "base_uri": "https://localhost:8080/",
          "height": 356
        },
        "id": "noV0xF5PB3FC",
        "outputId": "05a75fb5-6949-43f1-f3b7-b9cfa2cd5d87"
      },
      "execution_count": null,
      "outputs": [
        {
          "output_type": "error",
          "ename": "FileNotFoundError",
          "evalue": "[Errno 2] No such file or directory: '/content/sample_data/matches10353.csv'",
          "traceback": [
            "\u001b[0;31m---------------------------------------------------------------------------\u001b[0m",
            "\u001b[0;31mFileNotFoundError\u001b[0m                         Traceback (most recent call last)",
            "\u001b[0;32m<ipython-input-8-9d779c292220>\u001b[0m in \u001b[0;36m<cell line: 0>\u001b[0;34m()\u001b[0m\n\u001b[1;32m      9\u001b[0m \u001b[0;34m\u001b[0m\u001b[0m\n\u001b[1;32m     10\u001b[0m \u001b[0;31m# Load dataset\u001b[0m\u001b[0;34m\u001b[0m\u001b[0;34m\u001b[0m\u001b[0m\n\u001b[0;32m---> 11\u001b[0;31m \u001b[0mdf\u001b[0m \u001b[0;34m=\u001b[0m \u001b[0mpd\u001b[0m\u001b[0;34m.\u001b[0m\u001b[0mread_csv\u001b[0m\u001b[0;34m(\u001b[0m\u001b[0;34m\"/content/sample_data/matches10353.csv\"\u001b[0m\u001b[0;34m,\u001b[0m \u001b[0msep\u001b[0m\u001b[0;34m=\u001b[0m\u001b[0;34m','\u001b[0m\u001b[0;34m)\u001b[0m\u001b[0;34m\u001b[0m\u001b[0;34m\u001b[0m\u001b[0m\n\u001b[0m\u001b[1;32m     12\u001b[0m \u001b[0mdf\u001b[0m\u001b[0;34m.\u001b[0m\u001b[0mfillna\u001b[0m\u001b[0;34m(\u001b[0m\u001b[0;36m0\u001b[0m\u001b[0;34m,\u001b[0m \u001b[0minplace\u001b[0m\u001b[0;34m=\u001b[0m\u001b[0;32mTrue\u001b[0m\u001b[0;34m)\u001b[0m  \u001b[0;31m# Fill NaN values\u001b[0m\u001b[0;34m\u001b[0m\u001b[0;34m\u001b[0m\u001b[0m\n\u001b[1;32m     13\u001b[0m \u001b[0mdf\u001b[0m \u001b[0;34m=\u001b[0m \u001b[0mdf\u001b[0m\u001b[0;34m[\u001b[0m\u001b[0mdf\u001b[0m\u001b[0;34m[\u001b[0m\u001b[0;34m'winner'\u001b[0m\u001b[0;34m]\u001b[0m \u001b[0;34m!=\u001b[0m \u001b[0;36m0.5\u001b[0m\u001b[0;34m]\u001b[0m  \u001b[0;31m# Remove matches with a draw (0.5)\u001b[0m\u001b[0;34m\u001b[0m\u001b[0;34m\u001b[0m\u001b[0m\n",
            "\u001b[0;32m/usr/local/lib/python3.11/dist-packages/pandas/io/parsers/readers.py\u001b[0m in \u001b[0;36mread_csv\u001b[0;34m(filepath_or_buffer, sep, delimiter, header, names, index_col, usecols, dtype, engine, converters, true_values, false_values, skipinitialspace, skiprows, skipfooter, nrows, na_values, keep_default_na, na_filter, verbose, skip_blank_lines, parse_dates, infer_datetime_format, keep_date_col, date_parser, date_format, dayfirst, cache_dates, iterator, chunksize, compression, thousands, decimal, lineterminator, quotechar, quoting, doublequote, escapechar, comment, encoding, encoding_errors, dialect, on_bad_lines, delim_whitespace, low_memory, memory_map, float_precision, storage_options, dtype_backend)\u001b[0m\n\u001b[1;32m   1024\u001b[0m     \u001b[0mkwds\u001b[0m\u001b[0;34m.\u001b[0m\u001b[0mupdate\u001b[0m\u001b[0;34m(\u001b[0m\u001b[0mkwds_defaults\u001b[0m\u001b[0;34m)\u001b[0m\u001b[0;34m\u001b[0m\u001b[0;34m\u001b[0m\u001b[0m\n\u001b[1;32m   1025\u001b[0m \u001b[0;34m\u001b[0m\u001b[0m\n\u001b[0;32m-> 1026\u001b[0;31m     \u001b[0;32mreturn\u001b[0m \u001b[0m_read\u001b[0m\u001b[0;34m(\u001b[0m\u001b[0mfilepath_or_buffer\u001b[0m\u001b[0;34m,\u001b[0m \u001b[0mkwds\u001b[0m\u001b[0;34m)\u001b[0m\u001b[0;34m\u001b[0m\u001b[0;34m\u001b[0m\u001b[0m\n\u001b[0m\u001b[1;32m   1027\u001b[0m \u001b[0;34m\u001b[0m\u001b[0m\n\u001b[1;32m   1028\u001b[0m \u001b[0;34m\u001b[0m\u001b[0m\n",
            "\u001b[0;32m/usr/local/lib/python3.11/dist-packages/pandas/io/parsers/readers.py\u001b[0m in \u001b[0;36m_read\u001b[0;34m(filepath_or_buffer, kwds)\u001b[0m\n\u001b[1;32m    618\u001b[0m \u001b[0;34m\u001b[0m\u001b[0m\n\u001b[1;32m    619\u001b[0m     \u001b[0;31m# Create the parser.\u001b[0m\u001b[0;34m\u001b[0m\u001b[0;34m\u001b[0m\u001b[0m\n\u001b[0;32m--> 620\u001b[0;31m     \u001b[0mparser\u001b[0m \u001b[0;34m=\u001b[0m \u001b[0mTextFileReader\u001b[0m\u001b[0;34m(\u001b[0m\u001b[0mfilepath_or_buffer\u001b[0m\u001b[0;34m,\u001b[0m \u001b[0;34m**\u001b[0m\u001b[0mkwds\u001b[0m\u001b[0;34m)\u001b[0m\u001b[0;34m\u001b[0m\u001b[0;34m\u001b[0m\u001b[0m\n\u001b[0m\u001b[1;32m    621\u001b[0m \u001b[0;34m\u001b[0m\u001b[0m\n\u001b[1;32m    622\u001b[0m     \u001b[0;32mif\u001b[0m \u001b[0mchunksize\u001b[0m \u001b[0;32mor\u001b[0m \u001b[0miterator\u001b[0m\u001b[0;34m:\u001b[0m\u001b[0;34m\u001b[0m\u001b[0;34m\u001b[0m\u001b[0m\n",
            "\u001b[0;32m/usr/local/lib/python3.11/dist-packages/pandas/io/parsers/readers.py\u001b[0m in \u001b[0;36m__init__\u001b[0;34m(self, f, engine, **kwds)\u001b[0m\n\u001b[1;32m   1618\u001b[0m \u001b[0;34m\u001b[0m\u001b[0m\n\u001b[1;32m   1619\u001b[0m         \u001b[0mself\u001b[0m\u001b[0;34m.\u001b[0m\u001b[0mhandles\u001b[0m\u001b[0;34m:\u001b[0m \u001b[0mIOHandles\u001b[0m \u001b[0;34m|\u001b[0m \u001b[0;32mNone\u001b[0m \u001b[0;34m=\u001b[0m \u001b[0;32mNone\u001b[0m\u001b[0;34m\u001b[0m\u001b[0;34m\u001b[0m\u001b[0m\n\u001b[0;32m-> 1620\u001b[0;31m         \u001b[0mself\u001b[0m\u001b[0;34m.\u001b[0m\u001b[0m_engine\u001b[0m \u001b[0;34m=\u001b[0m \u001b[0mself\u001b[0m\u001b[0;34m.\u001b[0m\u001b[0m_make_engine\u001b[0m\u001b[0;34m(\u001b[0m\u001b[0mf\u001b[0m\u001b[0;34m,\u001b[0m \u001b[0mself\u001b[0m\u001b[0;34m.\u001b[0m\u001b[0mengine\u001b[0m\u001b[0;34m)\u001b[0m\u001b[0;34m\u001b[0m\u001b[0;34m\u001b[0m\u001b[0m\n\u001b[0m\u001b[1;32m   1621\u001b[0m \u001b[0;34m\u001b[0m\u001b[0m\n\u001b[1;32m   1622\u001b[0m     \u001b[0;32mdef\u001b[0m \u001b[0mclose\u001b[0m\u001b[0;34m(\u001b[0m\u001b[0mself\u001b[0m\u001b[0;34m)\u001b[0m \u001b[0;34m->\u001b[0m \u001b[0;32mNone\u001b[0m\u001b[0;34m:\u001b[0m\u001b[0;34m\u001b[0m\u001b[0;34m\u001b[0m\u001b[0m\n",
            "\u001b[0;32m/usr/local/lib/python3.11/dist-packages/pandas/io/parsers/readers.py\u001b[0m in \u001b[0;36m_make_engine\u001b[0;34m(self, f, engine)\u001b[0m\n\u001b[1;32m   1878\u001b[0m                 \u001b[0;32mif\u001b[0m \u001b[0;34m\"b\"\u001b[0m \u001b[0;32mnot\u001b[0m \u001b[0;32min\u001b[0m \u001b[0mmode\u001b[0m\u001b[0;34m:\u001b[0m\u001b[0;34m\u001b[0m\u001b[0;34m\u001b[0m\u001b[0m\n\u001b[1;32m   1879\u001b[0m                     \u001b[0mmode\u001b[0m \u001b[0;34m+=\u001b[0m \u001b[0;34m\"b\"\u001b[0m\u001b[0;34m\u001b[0m\u001b[0;34m\u001b[0m\u001b[0m\n\u001b[0;32m-> 1880\u001b[0;31m             self.handles = get_handle(\n\u001b[0m\u001b[1;32m   1881\u001b[0m                 \u001b[0mf\u001b[0m\u001b[0;34m,\u001b[0m\u001b[0;34m\u001b[0m\u001b[0;34m\u001b[0m\u001b[0m\n\u001b[1;32m   1882\u001b[0m                 \u001b[0mmode\u001b[0m\u001b[0;34m,\u001b[0m\u001b[0;34m\u001b[0m\u001b[0;34m\u001b[0m\u001b[0m\n",
            "\u001b[0;32m/usr/local/lib/python3.11/dist-packages/pandas/io/common.py\u001b[0m in \u001b[0;36mget_handle\u001b[0;34m(path_or_buf, mode, encoding, compression, memory_map, is_text, errors, storage_options)\u001b[0m\n\u001b[1;32m    871\u001b[0m         \u001b[0;32mif\u001b[0m \u001b[0mioargs\u001b[0m\u001b[0;34m.\u001b[0m\u001b[0mencoding\u001b[0m \u001b[0;32mand\u001b[0m \u001b[0;34m\"b\"\u001b[0m \u001b[0;32mnot\u001b[0m \u001b[0;32min\u001b[0m \u001b[0mioargs\u001b[0m\u001b[0;34m.\u001b[0m\u001b[0mmode\u001b[0m\u001b[0;34m:\u001b[0m\u001b[0;34m\u001b[0m\u001b[0;34m\u001b[0m\u001b[0m\n\u001b[1;32m    872\u001b[0m             \u001b[0;31m# Encoding\u001b[0m\u001b[0;34m\u001b[0m\u001b[0;34m\u001b[0m\u001b[0m\n\u001b[0;32m--> 873\u001b[0;31m             handle = open(\n\u001b[0m\u001b[1;32m    874\u001b[0m                 \u001b[0mhandle\u001b[0m\u001b[0;34m,\u001b[0m\u001b[0;34m\u001b[0m\u001b[0;34m\u001b[0m\u001b[0m\n\u001b[1;32m    875\u001b[0m                 \u001b[0mioargs\u001b[0m\u001b[0;34m.\u001b[0m\u001b[0mmode\u001b[0m\u001b[0;34m,\u001b[0m\u001b[0;34m\u001b[0m\u001b[0;34m\u001b[0m\u001b[0m\n",
            "\u001b[0;31mFileNotFoundError\u001b[0m: [Errno 2] No such file or directory: '/content/sample_data/matches10353.csv'"
          ]
        }
      ]
    },
    {
      "cell_type": "code",
      "source": [
        "team1_counts = df['team1'].value_counts()\n",
        "team2_counts = df['team2'].value_counts()\n",
        "\n",
        "# Spočítat celkový počet zápasů pro každý tým (sčítáme výskyty pro team1 a team2)\n",
        "team_counts = team1_counts.add(team2_counts, fill_value=0)\n",
        "\n",
        "# Získat top 2 týmy s nejvíce zápasy\n",
        "top_teams = team_counts.nlargest(2)\n",
        "\n",
        "# Tým s druhým nejvíce daty\n",
        "team_with_second_most_data = top_teams.index[1]\n",
        "second_most_data_count = top_teams.iloc[1]\n",
        "# Najít tým s nejvíce zápasy\n",
        "team_with_most_data = team_counts.idxmax()\n",
        "most_data_count = team_counts.max()\n",
        "\n",
        "print(f\"Tým s nejvíce daty: {team_with_most_data} (Počet zápasů: {most_data_count})\")\n",
        "print(f\"Tým s druhým nejvíce daty: {team_with_second_most_data} (Počet zápasů: {second_most_data_count})\")"
      ],
      "metadata": {
        "colab": {
          "base_uri": "https://localhost:8080/"
        },
        "id": "OT-BjV1CDAG6",
        "outputId": "4e50b3ca-62b4-459b-958d-d1fc0fedddb4"
      },
      "execution_count": null,
      "outputs": [
        {
          "output_type": "stream",
          "name": "stdout",
          "text": [
            "Tým s nejvíce daty: 375 (Počet zápasů: 87.0)\n",
            "Tým s druhým nejvíce daty: 134 (Počet zápasů: 86.0)\n"
          ]
        }
      ]
    },
    {
      "cell_type": "code",
      "source": [
        "import pandas as pd\n",
        "from sklearn.model_selection import train_test_split\n",
        "from sklearn.preprocessing import StandardScaler\n",
        "from xgboost import XGBClassifier\n",
        "from sklearn.metrics import classification_report, accuracy_score\n",
        "\n",
        "# Load the dataset\n",
        "df = pd.read_csv(\"/content/sample_data/matches300.csv\", sep=',')\n",
        "df.fillna(0, inplace=True)  # Fill NaN values\n",
        "df = df[df['winner'] != 0.5]  # Remove matches with a draw (0.5)\n",
        "\n",
        "# Compute past average KD and ACS per team\n",
        "team1_stats = df[['team1', 'AVG_KD1', 'AVG_ACS1']].rename(columns={'team1': 'team', 'AVG_KD1': 'KD', 'AVG_ACS1': 'ACS'})\n",
        "team2_stats = df[['team2', 'AVG_KD2', 'AVG_ACS2']].rename(columns={'team2': 'team', 'AVG_KD2': 'KD', 'AVG_ACS2': 'ACS'})\n",
        "team_stats = pd.concat([team1_stats, team2_stats]).groupby('team').mean().reset_index()\n",
        "\n",
        "# Merge team stats into dataset\n",
        "df = df.merge(team_stats, left_on='team1', right_on='team', how='left').rename(columns={'KD': 'team1_KD', 'ACS': 'team1_ACS'}).drop(columns=['team'])\n",
        "df = df.merge(team_stats, left_on='team2', right_on='team', how='left').rename(columns={'KD': 'team2_KD', 'ACS': 'team2_ACS'}).drop(columns=['team'])\n",
        "\n",
        "\n",
        "# Define input and output attributes\n",
        "vstupni_atributy = ['team1_KD', 'team2_KD', 'team1_ACS', 'team2_ACS', 'map1', 'map2', 'map3','patch','league']\n",
        "vystupni_atribut = 'winner'\n",
        "\n",
        "# Split the data\n",
        "X_train, X_test, y_train, y_test = train_test_split(df[vstupni_atributy], df[vystupni_atribut], test_size=0.3, random_state=4)\n",
        "\n",
        "# Normalize the data (important for tree-based models, though not as critical)\n",
        "scaler = StandardScaler()\n",
        "X_train = scaler.fit_transform(X_train)\n",
        "X_test = scaler.transform(X_test)\n",
        "\n",
        "# Initialize the XGBoost model\n",
        "model_xgb = XGBClassifier(eval_metric='mlogloss', use_label_encoder=False)\n",
        "\n",
        "# Train the model\n",
        "model_xgb.fit(X_train, y_train)\n",
        "\n",
        "# Make predictions\n",
        "y_pred_xgb = model_xgb.predict(X_test)\n",
        "\n",
        "# Print results\n",
        "print(\"XGBoost Classifier:\")\n",
        "print(classification_report(y_test, y_pred_xgb))\n",
        "print(f\"Accuracy: {accuracy_score(y_test, y_pred_xgb):.4f}\")\n"
      ],
      "metadata": {
        "colab": {
          "base_uri": "https://localhost:8080/"
        },
        "id": "-AlrzKruEepO",
        "outputId": "b2bb7218-63e0-4148-8094-af9785e6409d"
      },
      "execution_count": 9,
      "outputs": [
        {
          "output_type": "stream",
          "name": "stderr",
          "text": [
            "/usr/local/lib/python3.11/dist-packages/xgboost/core.py:158: UserWarning: [15:44:35] WARNING: /workspace/src/learner.cc:740: \n",
            "Parameters: { \"use_label_encoder\" } are not used.\n",
            "\n",
            "  warnings.warn(smsg, UserWarning)\n"
          ]
        },
        {
          "output_type": "stream",
          "name": "stdout",
          "text": [
            "XGBoost Classifier:\n",
            "              precision    recall  f1-score   support\n",
            "\n",
            "         0.0       0.77      0.65      0.71        37\n",
            "         1.0       0.77      0.86      0.81        51\n",
            "\n",
            "    accuracy                           0.77        88\n",
            "   macro avg       0.77      0.76      0.76        88\n",
            "weighted avg       0.77      0.77      0.77        88\n",
            "\n",
            "Accuracy: 0.7727\n"
          ]
        }
      ]
    },
    {
      "cell_type": "code",
      "source": [
        "import pandas as pd\n",
        "from sklearn.model_selection import train_test_split\n",
        "from sklearn.preprocessing import StandardScaler\n",
        "from xgboost import XGBClassifier\n",
        "from sklearn.metrics import classification_report, accuracy_score\n",
        "\n",
        "# Load the dataset\n",
        "df = pd.read_csv(\"/content/sample_data/matches10353.csv\", sep=',')\n",
        "df.fillna(0, inplace=True)  # Fill NaN values\n",
        "df = df[df['winner'] != 0.5]  # Remove matches with a draw (0.5)\n",
        "\n",
        "# Compute past average KD and ACS per team\n",
        "team1_stats = df[['team1', 'AVG_KD1', 'AVG_ACS1']].rename(columns={'team1': 'team', 'AVG_KD1': 'KD', 'AVG_ACS1': 'ACS'})\n",
        "team2_stats = df[['team2', 'AVG_KD2', 'AVG_ACS2']].rename(columns={'team2': 'team', 'AVG_KD2': 'KD', 'AVG_ACS2': 'ACS'})\n",
        "team_stats = pd.concat([team1_stats, team2_stats]).groupby('team').mean().reset_index()\n",
        "\n",
        "# Merge team stats into dataset\n",
        "df = df.merge(team_stats, left_on='team1', right_on='team', how='left').rename(columns={'KD': 'team1_KD', 'ACS': 'team1_ACS'}).drop(columns=['team'])\n",
        "df = df.merge(team_stats, left_on='team2', right_on='team', how='left').rename(columns={'KD': 'team2_KD', 'ACS': 'team2_ACS'}).drop(columns=['team'])\n",
        "\n",
        "\n",
        "# Define input and output attributes\n",
        "vstupni_atributy = ['team1_KD', 'team2_KD', 'team1_ACS', 'team2_ACS', 'map1', 'map2', 'map3','patch','league']\n",
        "vystupni_atribut = 'winner'\n",
        "\n",
        "# Split the data\n",
        "X_train, X_test, y_train, y_test = train_test_split(df[vstupni_atributy], df[vystupni_atribut], test_size=0.3, random_state=4)\n",
        "\n",
        "# Normalize the data (important for tree-based models, though not as critical)\n",
        "scaler = StandardScaler()\n",
        "X_train = scaler.fit_transform(X_train)\n",
        "X_test = scaler.transform(X_test)\n",
        "\n",
        "# Initialize the XGBoost model\n",
        "model_xgb = XGBClassifier(eval_metric='mlogloss', use_label_encoder=False)\n",
        "\n",
        "# Train the model\n",
        "model_xgb.fit(X_train, y_train)\n",
        "\n",
        "# Make predictions\n",
        "y_pred_xgb = model_xgb.predict(X_test)\n",
        "\n",
        "# Print results\n",
        "print(\"XGBoost Classifier:\")\n",
        "print(classification_report(y_test, y_pred_xgb))\n",
        "print(f\"Accuracy: {accuracy_score(y_test, y_pred_xgb):.4f}\")\n"
      ],
      "metadata": {
        "colab": {
          "base_uri": "https://localhost:8080/"
        },
        "id": "E93eGqiJK0n0",
        "outputId": "3db0c58f-9e25-4fee-de56-74a0024169bb"
      },
      "execution_count": null,
      "outputs": [
        {
          "output_type": "stream",
          "name": "stderr",
          "text": [
            "/usr/local/lib/python3.11/dist-packages/xgboost/core.py:158: UserWarning: [16:48:38] WARNING: /workspace/src/learner.cc:740: \n",
            "Parameters: { \"use_label_encoder\" } are not used.\n",
            "\n",
            "  warnings.warn(smsg, UserWarning)\n"
          ]
        },
        {
          "output_type": "stream",
          "name": "stdout",
          "text": [
            "XGBoost Classifier:\n",
            "              precision    recall  f1-score   support\n",
            "\n",
            "         0.0       0.65      0.63      0.64      1053\n",
            "         1.0       0.72      0.74      0.73      1345\n",
            "\n",
            "    accuracy                           0.69      2398\n",
            "   macro avg       0.68      0.68      0.68      2398\n",
            "weighted avg       0.69      0.69      0.69      2398\n",
            "\n",
            "Accuracy: 0.6893\n"
          ]
        }
      ]
    }
  ]
}